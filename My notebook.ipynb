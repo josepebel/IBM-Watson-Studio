{
    "cells": [
        {
            "cell_type": "markdown",
            "metadata": {
                "collapsed": true
            },
            "source": "# My Jupyter Notebook on IBM Watson Studio"
        },
        {
            "cell_type": "markdown",
            "metadata": {},
            "source": "**Jos\u00e9 Antonio Pe\u00f1o**\n\n100% Human"
        },
        {
            "cell_type": "markdown",
            "metadata": {},
            "source": "*I am interested in data science because I think that is the future*"
        },
        {
            "cell_type": "markdown",
            "metadata": {},
            "source": "### The following cell is my code"
        },
        {
            "cell_type": "code",
            "execution_count": 3,
            "metadata": {},
            "outputs": [
                {
                    "data": {
                        "text/plain": "7"
                    },
                    "execution_count": 3,
                    "metadata": {},
                    "output_type": "execute_result"
                }
            ],
            "source": "x = 1\ny = x - 4\nz = (x-6) + y * (y-1)\nz"
        },
        {
            "cell_type": "markdown",
            "metadata": {},
            "source": "My table\n\n|    product    |     units     |     price     |\n| ------------- | ------------- | ------------- |\n|  chocolate    |       9       |     25       |\n|     milk      |       6       |      6       |\n\n\nMy ordered list\n    \n1. Item 1\n1. Item 2\n1. Item 3\n   1. Item 3a\n   1. Item 3b\n\nMy link\n\n[A simple link](https://www.google.com)"
        }
    ],
    "metadata": {
        "kernelspec": {
            "display_name": "Python 3.7",
            "language": "python",
            "name": "python3"
        },
        "language_info": {
            "codemirror_mode": {
                "name": "ipython",
                "version": 3
            },
            "file_extension": ".py",
            "mimetype": "text/x-python",
            "name": "python",
            "nbconvert_exporter": "python",
            "pygments_lexer": "ipython3",
            "version": "3.7.9"
        }
    },
    "nbformat": 4,
    "nbformat_minor": 1
}